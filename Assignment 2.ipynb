{
 "cells": [
  {
   "cell_type": "code",
   "execution_count": 4,
   "metadata": {
    "collapsed": false
   },
   "outputs": [
    {
     "data": {
      "text/plain": [
       "48"
      ]
     },
     "execution_count": 4,
     "metadata": {},
     "output_type": "execute_result"
    }
   ],
   "source": [
    "# 1.1 Write a Python Program to implement your own myreduce() function \n",
    "# which works exactly likePython's built-in function reduce()\n",
    "from functools import reduce\n",
    "def mul(x,y):\n",
    "    return x*y\n",
    "reduce(mul,[2,4,6])"
   ]
  },
  {
   "cell_type": "code",
   "execution_count": 5,
   "metadata": {
    "collapsed": false
   },
   "outputs": [
    {
     "name": "stdout",
     "output_type": "stream",
     "text": [
      "The filtered animals are:\n",
      "Dog\n",
      "Cat\n"
     ]
    }
   ],
   "source": [
    "# 1.2 Write a Python program to implement your own myfilter() function \n",
    "# which works exactly likePython's built-in function filter()\n",
    "\n",
    "animals=['Cat','Dog','Cow','Horse']\n",
    "def fun(x):\n",
    "    if (x in animals):\n",
    "        return(True)\n",
    "    else:\n",
    "        return(False)\n",
    "wild_animals=['Lion','Tiger','Elephant','Dog','Cat']\n",
    "       \n",
    "filtered_animals=filter(fun,wild_animals)  \n",
    "\n",
    "print('The filtered animals are:')      \n",
    "for i in filtered_animals:\n",
    "    print(i)\n"
   ]
  },
  {
   "cell_type": "code",
   "execution_count": 11,
   "metadata": {
    "collapsed": false
   },
   "outputs": [
    {
     "name": "stdout",
     "output_type": "stream",
     "text": [
      "x xx xxx xxxx y yy yyy yyyy z zz zzz zzzz "
     ]
    }
   ],
   "source": [
    "# 2.Implement List comprehensions to produce the following lists.Write List comprehensions to produce the following Lists\n",
    "\n",
    "\n",
    "lis=['x','y','z']\n",
    "for i in lis:\n",
    "    print(i,i*2,i*3,i*4,end=\" \")\n",
    "\n",
    "\n",
    "\n",
    "\n",
    "\n",
    "\n",
    "\n"
   ]
  },
  {
   "cell_type": "code",
   "execution_count": 12,
   "metadata": {
    "collapsed": false
   },
   "outputs": [
    {
     "name": "stdout",
     "output_type": "stream",
     "text": [
      "['A', 'C', 'A', 'D', 'G', 'I', 'L', 'D']\n"
     ]
    }
   ],
   "source": [
    "letters = \"ACADGILD\"\n",
    "print([letters[i:i+1] for i in range(0, len(letters), 1)]) "
   ]
  },
  {
   "cell_type": "code",
   "execution_count": 7,
   "metadata": {
    "collapsed": false
   },
   "outputs": [
    {
     "name": "stdout",
     "output_type": "stream",
     "text": [
      "x x x xx xx xx xxx xxx xxx y y y yy yy yy yyy yyy yyy z z z zz zz zz zzz zzz zzz "
     ]
    }
   ],
   "source": [
    "lis=['x','y','z']\n",
    "for i in lis:\n",
    "    print(i,i,i,i*2,i*2,i*2,i*3,i*3,i*3,end=\" \")"
   ]
  },
  {
   "cell_type": "code",
   "execution_count": 8,
   "metadata": {
    "collapsed": false
   },
   "outputs": [
    {
     "name": "stdout",
     "output_type": "stream",
     "text": [
      "[[2], [3], [4], [3], [4], [5], [4], [5], [6]]\n"
     ]
    }
   ],
   "source": [
    "lis = [2,3,4]\n",
    "result = [ [i+num] for i in lis for num in range(0,3)]\n",
    "print(result)          \n"
   ]
  },
  {
   "cell_type": "code",
   "execution_count": 16,
   "metadata": {
    "collapsed": false
   },
   "outputs": [
    {
     "name": "stdout",
     "output_type": "stream",
     "text": [
      "[[2, 3, 4, 5], [3, 4, 5, 6], [4, 5, 6, 7], [5, 6, 7, 8]]\n"
     ]
    }
   ],
   "source": [
    "lis = [2,3,4,5]\n",
    "result = [ [i+num for i in lis] for num in range(0,4)]\n",
    "print(result) "
   ]
  },
  {
   "cell_type": "code",
   "execution_count": 17,
   "metadata": {
    "collapsed": false
   },
   "outputs": [
    {
     "name": "stdout",
     "output_type": "stream",
     "text": [
      "[(1, 1), (2, 1), (3, 1), (1, 2), (2, 2), (3, 2), (1, 3), (2, 3), (3, 3)]\n"
     ]
    }
   ],
   "source": [
    "lis=[1,2,3]\n",
    "result = [ (b,a) for a in lis for b in lis]\n",
    "print(result)\n"
   ]
  },
  {
   "cell_type": "code",
   "execution_count": 18,
   "metadata": {
    "collapsed": false
   },
   "outputs": [
    {
     "name": "stdout",
     "output_type": "stream",
     "text": [
      "Hippopotamus\n"
     ]
    }
   ],
   "source": [
    "def longestWord(words):\n",
    "    word_len = []\n",
    "    for n in words:\n",
    "        word_len.append((len(n), n))\n",
    "    word_len.sort()\n",
    "    return word_len[-1][1]\n",
    "\n",
    "print(longestWord([\"Hippopotamus\", \"Giraffe\", \"Lion\"]))\n",
    "\n"
   ]
  }
 ],
 "metadata": {
  "anaconda-cloud": {},
  "kernelspec": {
   "display_name": "Python [conda root]",
   "language": "python",
   "name": "conda-root-py"
  },
  "language_info": {
   "codemirror_mode": {
    "name": "ipython",
    "version": 3
   },
   "file_extension": ".py",
   "mimetype": "text/x-python",
   "name": "python",
   "nbconvert_exporter": "python",
   "pygments_lexer": "ipython3",
   "version": "3.5.6"
  }
 },
 "nbformat": 4,
 "nbformat_minor": 1
}
